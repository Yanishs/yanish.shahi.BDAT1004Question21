{
 "cells": [
  {
   "cell_type": "markdown",
   "id": "47455f07",
   "metadata": {},
   "source": [
    "__int()__: Constructor that takes as input a pair of Point objects that represent the ends points of the line segment\n",
    "\n",
    "Length():: returns the length if the segment \n",
    "\n",
    "Slope() returns the slope of the segment of none if the slope is unbounded "
   ]
  },
  {
   "cell_type": "code",
   "execution_count": 1,
   "id": "ef48e859",
   "metadata": {},
   "outputs": [],
   "source": [
    "import math\n",
    "\n",
    "class Point:  \n",
    "    def __init__(self, x=0, y=0):  #initialization of the co-ordinates by default 0,0 \n",
    "        self.x = x\n",
    "        self.y = y\n",
    "\n",
    "class Segment:\n",
    "    def __init__(self, point1, point2):\n",
    "        self.point1 = point1\n",
    "        self.point2 = point2\n",
    "    \n",
    "    def length(self):\n",
    "        x1, y1 = self.point1.x, self.point1.y  \n",
    "        x2, y2 = self.point2.x, self.point2.y\n",
    "        length = math.sqrt((x2 - x1)**2 + (y2 - y1)**2)\n",
    "        return length\n",
    "    \n",
    "    def slope(self):\n",
    "        x1, y1 = self.point1.x, self.point1.y\n",
    "        x2, y2 = self.point2.x, self.point2.y\n",
    "        if x2 - x1 == 0:\n",
    "            \n",
    "            return None    #returns none if slope is unbounded\n",
    "        else:\n",
    "            \n",
    "            slope = (y2 - y1) / (x2 - x1)\n",
    "            return slope  \n",
    "\n"
   ]
  },
  {
   "cell_type": "code",
   "execution_count": 2,
   "id": "670b8c2f",
   "metadata": {},
   "outputs": [
    {
     "data": {
      "text/plain": [
       "5.0"
      ]
     },
     "execution_count": 2,
     "metadata": {},
     "output_type": "execute_result"
    }
   ],
   "source": [
    "p1 = Point(3, 4)\n",
    "p2 = Point()\n",
    "s = Segment(p1, p2)\n",
    "s.length()\n"
   ]
  },
  {
   "cell_type": "code",
   "execution_count": 3,
   "id": "ae1563f5",
   "metadata": {},
   "outputs": [
    {
     "data": {
      "text/plain": [
       "1.3333333333333333"
      ]
     },
     "execution_count": 3,
     "metadata": {},
     "output_type": "execute_result"
    }
   ],
   "source": [
    "s.slope()"
   ]
  },
  {
   "cell_type": "code",
   "execution_count": null,
   "id": "45339832",
   "metadata": {},
   "outputs": [],
   "source": []
  }
 ],
 "metadata": {
  "kernelspec": {
   "display_name": "Python 3 (ipykernel)",
   "language": "python",
   "name": "python3"
  },
  "language_info": {
   "codemirror_mode": {
    "name": "ipython",
    "version": 3
   },
   "file_extension": ".py",
   "mimetype": "text/x-python",
   "name": "python",
   "nbconvert_exporter": "python",
   "pygments_lexer": "ipython3",
   "version": "3.11.4"
  }
 },
 "nbformat": 4,
 "nbformat_minor": 5
}
